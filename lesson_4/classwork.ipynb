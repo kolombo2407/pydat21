{
 "cells": [
  {
   "cell_type": "code",
   "execution_count": 8,
   "metadata": {},
   "outputs": [
    {
     "name": "stdout",
     "output_type": "stream",
     "text": [
      "1 2 3 4\n",
      "[1, 2, 3, 4]\n",
      "10\n"
     ]
    }
   ],
   "source": [
    "numbers = input()\n",
    "\n",
    "numbers_list = numbers.split(' ')\n",
    "\n",
    "i = 0\n",
    "\n",
    "while i < len(numbers_list):\n",
    "    numbers_list[i] = int(numbers_list[i])\n",
    "    \n",
    "    i += 1\n",
    "\n",
    "print(numbers_list)\n",
    "print(sum(numbers_list))"
   ]
  },
  {
   "cell_type": "code",
   "execution_count": 4,
   "metadata": {},
   "outputs": [
    {
     "name": "stdout",
     "output_type": "stream",
     "text": [
      "3\n",
      "9\n"
     ]
    }
   ],
   "source": [
    "A = input()\n",
    "A = int(A)\n",
    "\n",
    "print(A ** 2)"
   ]
  },
  {
   "cell_type": "code",
   "execution_count": null,
   "metadata": {},
   "outputs": [],
   "source": [
    "i = 0\n",
    "while i < 10:\n",
    "    print(\"Мне нравится программировать на Питоне!!!\")\n",
    "    \n",
    "    i = i + 1"
   ]
  },
  {
   "cell_type": "code",
   "execution_count": 41,
   "metadata": {},
   "outputs": [
    {
     "name": "stdout",
     "output_type": "stream",
     "text": [
      "Мне нравится программировать на Питоне!!!\n",
      "Мне нравится программировать на Питоне!!!\n",
      "Мне нравится программировать на Питоне!!!\n",
      "Мне нравится программировать на Питоне!!!\n",
      "Мне нравится программировать на Питоне!!!\n",
      "Мне нравится программировать на Питоне!!!\n",
      "Мне нравится программировать на Питоне!!!\n",
      "Мне нравится программировать на Питоне!!!\n",
      "Мне нравится программировать на Питоне!!!\n",
      "Мне нравится программировать на Питоне!!!\n"
     ]
    }
   ],
   "source": [
    "for i in range(10):\n",
    "    print(\"Мне нравится программировать на Питоне!!!\")"
   ]
  },
  {
   "cell_type": "code",
   "execution_count": 6,
   "metadata": {},
   "outputs": [
    {
     "name": "stdout",
     "output_type": "stream",
     "text": [
      "Пишу в 0 раз: мне нравится программировать на Питоне!!!\n",
      "Пишу в 1 раз: мне нравится программировать на Питоне!!!\n",
      "Пишу в 2 раз: мне нравится программировать на Питоне!!!\n",
      "Пишу в 3 раз: мне нравится программировать на Питоне!!!\n",
      "Пишу в 4 раз: мне нравится программировать на Питоне!!!\n",
      "Пишу в 5 раз: мне нравится программировать на Питоне!!!\n",
      "Пишу в 6 раз: мне нравится программировать на Питоне!!!\n",
      "Пишу в 7 раз: мне нравится программировать на Питоне!!!\n",
      "Пишу в 8 раз: мне нравится программировать на Питоне!!!\n",
      "Пишу в 9 раз: мне нравится программировать на Питоне!!!\n"
     ]
    }
   ],
   "source": [
    "i = 0\n",
    "\n",
    "while i < 10:\n",
    "    print(\"Пишу в {} раз: мне нравится программировать на Питоне!!!\".format(i))\n",
    "    \n",
    "    i = i + 1"
   ]
  },
  {
   "cell_type": "code",
   "execution_count": null,
   "metadata": {},
   "outputs": [],
   "source": [
    "target = int(input())\n",
    "\n",
    "current_number = 1\n",
    "\n",
    "while current_number <= target:\n",
    "    print(\"{} - {}\".format(current_number, current_number ** 2))\n",
    "\n",
    "    current_number += 1"
   ]
  },
  {
   "cell_type": "code",
   "execution_count": 11,
   "metadata": {},
   "outputs": [
    {
     "name": "stdout",
     "output_type": "stream",
     "text": [
      "10\n",
      "1 - 1\n",
      "2 - 4\n",
      "3 - 9\n",
      "4 - 16\n",
      "5 - 25\n",
      "6 - 36\n",
      "7 - 49\n",
      "8 - 64\n",
      "9 - 81\n",
      "10 - 100\n"
     ]
    }
   ],
   "source": [
    "target = int(input())\n",
    "\n",
    "current_number = 0\n",
    "\n",
    "while current_number < target:\n",
    "    current_number += 1\n",
    "    \n",
    "    print(\"{} - {}\".format(current_number, current_number ** 2))"
   ]
  },
  {
   "cell_type": "code",
   "execution_count": 16,
   "metadata": {},
   "outputs": [
    {
     "name": "stdout",
     "output_type": "stream",
     "text": [
      "X: 10\n",
      "Y: 21\n",
      "Дорогой дневник! Сегодня день №2 и я пробежал 11.00 км.\n",
      "Дорогой дневник! Сегодня день №3 и я пробежал 12.10 км.\n",
      "Дорогой дневник! Сегодня день №4 и я пробежал 13.31 км.\n",
      "Дорогой дневник! Сегодня день №5 и я пробежал 14.64 км.\n",
      "Дорогой дневник! Сегодня день №6 и я пробежал 16.11 км.\n",
      "Дорогой дневник! Сегодня день №7 и я пробежал 17.72 км.\n",
      "Дорогой дневник! Сегодня день №8 и я пробежал 19.49 км.\n",
      "Дорогой дневник! Сегодня день №9 и я пробежал 21.44 км.\n",
      "9\n"
     ]
    }
   ],
   "source": [
    "# сколько я могу?\n",
    "distance = int(input('X: '))\n",
    "# сколько нужно пробежать?\n",
    "target = int(input('Y: '))\n",
    "# какой сейчас день?\n",
    "days = 1\n",
    "\n",
    "# пока то что я могу меньше того, что нужно\n",
    "while distance < target:\n",
    "    distance = distance * 1.1\n",
    "    days += 1\n",
    "    \n",
    "    print(\"Дорогой дневник! Сегодня день №{} и я пробежал {:.2f} км.\".format(days, distance))\n",
    "\n",
    "print(days)"
   ]
  },
  {
   "cell_type": "code",
   "execution_count": 17,
   "metadata": {},
   "outputs": [
    {
     "name": "stdout",
     "output_type": "stream",
     "text": [
      "50\n",
      "1\n",
      "4\n",
      "9\n",
      "16\n",
      "25\n",
      "36\n",
      "49\n"
     ]
    }
   ],
   "source": [
    "N = int(input())\n",
    "\n",
    "i = 1\n",
    "\n",
    "while i * i <= N:\n",
    "    print(i * i)\n",
    "    \n",
    "    i = i + 1\n"
   ]
  },
  {
   "cell_type": "code",
   "execution_count": 19,
   "metadata": {},
   "outputs": [
    {
     "name": "stdout",
     "output_type": "stream",
     "text": [
      "10\n",
      "1\n",
      "4\n",
      "9\n"
     ]
    }
   ],
   "source": [
    "N = int(input())\n",
    "i = 1\n",
    "\n",
    "while True:\n",
    "    print(i * i)\n",
    "    i += 1\n",
    "    \n",
    "    if i * i > N:\n",
    "        break\n",
    "    "
   ]
  },
  {
   "cell_type": "code",
   "execution_count": 25,
   "metadata": {},
   "outputs": [
    {
     "name": "stdout",
     "output_type": "stream",
     "text": [
      "Придумайте пароль:aaaaaaaaa1\n",
      "Спасибо, ваш пароль - aaaaaaaaa1\n"
     ]
    }
   ],
   "source": [
    "while True:\n",
    "    password = input('Придумайте пароль:')\n",
    "    \n",
    "    if len(password) < 6:\n",
    "        print(\"Ваш пароль недостаточно длинный - минимум 6 символов.\")\n",
    "        continue\n",
    "    \n",
    "    if len(set(\"1234567890\") & set(password)) == 0:\n",
    "        print(\"Добавьте хотя бы одну цифру.\")\n",
    "        continue\n",
    "        \n",
    "    if  set(password).issubset(\"1234567890\"):\n",
    "        print(\"Добавьте хотя бы одну букву.\")\n",
    "        continue\n",
    "    \n",
    "    break\n",
    "    \n",
    "print(\"Спасибо, ваш пароль - {}\".format(password))"
   ]
  },
  {
   "cell_type": "code",
   "execution_count": null,
   "metadata": {},
   "outputs": [],
   "source": [
    "password = input()\n",
    "while not len(password) < 6 and not len(set(\"1234567890\") & set(password)) == 0...."
   ]
  },
  {
   "cell_type": "code",
   "execution_count": 28,
   "metadata": {},
   "outputs": [
    {
     "name": "stdout",
     "output_type": "stream",
     "text": [
      "Придумайте пароль:hh\n",
      "Ваш пароль недостаточно длинный - минимум 6 символов.\n",
      "Добавьте хотя бы одну цифру.\n",
      "Придумайте пароль:hhh111111\n",
      "Спасибо, ваш пароль - hhh111111\n"
     ]
    }
   ],
   "source": [
    "while True:\n",
    "    password = input('Придумайте пароль:')\n",
    "    password_is_correct = True\n",
    "    \n",
    "    if len(password) < 6:\n",
    "        print(\"Ваш пароль недостаточно длинный - минимум 6 символов.\")\n",
    "        password_is_correct = False\n",
    "    \n",
    "    if len(set(\"1234567890\") & set(password)) == 0:\n",
    "        print(\"Добавьте хотя бы одну цифру.\")\n",
    "        password_is_correct = False\n",
    "        \n",
    "    if set(password).issubset(\"1234567890\"):\n",
    "        print(\"Добавьте хотя бы одну букву.\")\n",
    "        password_is_correct = False\n",
    "    \n",
    "    if password_is_correct:\n",
    "        break\n",
    "    \n",
    "print(\"Спасибо, ваш пароль - {}\".format(password))"
   ]
  },
  {
   "cell_type": "code",
   "execution_count": 30,
   "metadata": {},
   "outputs": [
    {
     "name": "stdout",
     "output_type": "stream",
     "text": [
      "1\n",
      "1\n",
      "0\n",
      "1000\n",
      "Сумма вашего вклада - 1.0 рублей.\n",
      "Через 1000 лет у вас будет 11881.92 рублей\n"
     ]
    }
   ],
   "source": [
    "interest_rate = int(input()) \n",
    "rub = int(input())\n",
    "kop = int(input())\n",
    "years = int(input())\n",
    "\n",
    "amount = rub * 100 + kop\n",
    "print(\"Сумма вашего вклада - {} рублей.\".format(amount / 100))\n",
    "\n",
    "i = 0\n",
    "while i < years:\n",
    "    amount = amount * (100 + interest_rate) / 100\n",
    "    amount = int(amount)\n",
    "    \n",
    "    i += 1\n",
    "    \n",
    "print(\"Через {} лет у вас будет {} рублей\".format(years, amount / 100))\n",
    "    \n",
    "    \n"
   ]
  },
  {
   "cell_type": "code",
   "execution_count": 35,
   "metadata": {},
   "outputs": [
    {
     "name": "stdout",
     "output_type": "stream",
     "text": [
      "-1\n",
      "-2\n",
      "-3\n",
      "0\n",
      "-1\n"
     ]
    }
   ],
   "source": [
    "numbers = []\n",
    "\n",
    "while True:\n",
    "    number = int(input())\n",
    "    if number == 0:\n",
    "        break\n",
    "    \n",
    "    numbers.append(number)\n",
    "        \n",
    "print(max(numbers))"
   ]
  },
  {
   "cell_type": "code",
   "execution_count": 40,
   "metadata": {},
   "outputs": [
    {
     "name": "stdout",
     "output_type": "stream",
     "text": [
      "-3\n",
      "-100\n",
      "-23\n",
      "0\n",
      "-3\n"
     ]
    }
   ],
   "source": [
    "max_number_ever = int(input())\n",
    "\n",
    "while True:\n",
    "    number = int(input())\n",
    "    \n",
    "    if number == 0:\n",
    "        break\n",
    "    \n",
    "    if number > max_number_ever:\n",
    "        max_number_ever = number\n",
    "        \n",
    "print(max_number_ever)"
   ]
  },
  {
   "cell_type": "code",
   "execution_count": 43,
   "metadata": {},
   "outputs": [
    {
     "name": "stdout",
     "output_type": "stream",
     "text": [
      "11\n",
      "12\n",
      "13\n",
      "14\n",
      "[1, 2, 3, 4]\n"
     ]
    }
   ],
   "source": [
    "L = [1, 2, 3, 4]\n",
    "\n",
    "for element in L:\n",
    "    element += 10\n",
    "    print(element)\n",
    "    \n",
    "print(L)"
   ]
  },
  {
   "cell_type": "code",
   "execution_count": null,
   "metadata": {},
   "outputs": [],
   "source": [
    "L = [1, 2, 3, 4]\n",
    "\n",
    "i = 0\n",
    "while i < len(L):\n",
    "    element = L[i]\n",
    "    \n",
    "    element += 10\n",
    "    print(element)\n",
    "    \n",
    "    i += 1\n",
    "    "
   ]
  },
  {
   "cell_type": "code",
   "execution_count": 44,
   "metadata": {},
   "outputs": [
    {
     "name": "stdout",
     "output_type": "stream",
     "text": [
      "1\n",
      "2\n",
      "3\n",
      "4\n"
     ]
    }
   ],
   "source": [
    "S = {1, 2, 3, 4}\n",
    "\n",
    "for element in S:\n",
    "    print(element)"
   ]
  },
  {
   "cell_type": "code",
   "execution_count": 45,
   "metadata": {},
   "outputs": [
    {
     "name": "stdout",
     "output_type": "stream",
     "text": [
      "P\n",
      "y\n",
      "t\n",
      "h\n",
      "o\n",
      "n\n"
     ]
    }
   ],
   "source": [
    "for letter in \"Python\":\n",
    "    print(letter)"
   ]
  },
  {
   "cell_type": "code",
   "execution_count": 47,
   "metadata": {},
   "outputs": [
    {
     "name": "stdout",
     "output_type": "stream",
     "text": [
      "P\n",
      "y\n",
      "t\n",
      "h\n",
      "o\n",
      "n\n"
     ]
    }
   ],
   "source": [
    "for i in \"Python\":\n",
    "    print(i)"
   ]
  },
  {
   "cell_type": "code",
   "execution_count": 48,
   "metadata": {},
   "outputs": [
    {
     "name": "stdout",
     "output_type": "stream",
     "text": [
      "<class 'range'>\n"
     ]
    }
   ],
   "source": [
    "R = range(10)\n",
    "\n",
    "print(type(R))"
   ]
  },
  {
   "cell_type": "code",
   "execution_count": 49,
   "metadata": {},
   "outputs": [
    {
     "name": "stdout",
     "output_type": "stream",
     "text": [
      "<class 'int'>\n"
     ]
    }
   ],
   "source": [
    "A = 10\n",
    "\n",
    "print(type(A))"
   ]
  },
  {
   "cell_type": "code",
   "execution_count": 50,
   "metadata": {},
   "outputs": [
    {
     "name": "stdout",
     "output_type": "stream",
     "text": [
      "0\n",
      "1\n",
      "2\n",
      "3\n",
      "4\n",
      "5\n",
      "6\n",
      "7\n",
      "8\n",
      "9\n"
     ]
    }
   ],
   "source": [
    "for number in range(10):\n",
    "    print(number)"
   ]
  },
  {
   "cell_type": "code",
   "execution_count": 51,
   "metadata": {},
   "outputs": [
    {
     "name": "stdout",
     "output_type": "stream",
     "text": [
      "3\n",
      "4\n",
      "5\n",
      "6\n",
      "7\n",
      "8\n",
      "9\n"
     ]
    }
   ],
   "source": [
    "for number in range(3, 10):\n",
    "    print(number)"
   ]
  },
  {
   "cell_type": "code",
   "execution_count": 55,
   "metadata": {},
   "outputs": [
    {
     "name": "stdout",
     "output_type": "stream",
     "text": [
      "100\n",
      "97\n",
      "94\n",
      "91\n",
      "88\n",
      "85\n",
      "82\n",
      "79\n",
      "76\n",
      "73\n",
      "70\n",
      "67\n",
      "64\n",
      "61\n",
      "58\n",
      "55\n",
      "52\n",
      "49\n",
      "46\n",
      "43\n",
      "40\n",
      "37\n",
      "34\n",
      "31\n",
      "28\n",
      "25\n",
      "22\n",
      "19\n",
      "16\n",
      "13\n"
     ]
    }
   ],
   "source": [
    "for number in range(100, 10, -3):\n",
    "    print(number)"
   ]
  },
  {
   "cell_type": "code",
   "execution_count": 59,
   "metadata": {},
   "outputs": [
    {
     "name": "stdout",
     "output_type": "stream",
     "text": [
      "4.66 ms ± 17.1 µs per loop (mean ± std. dev. of 7 runs, 100 loops each)\n"
     ]
    }
   ],
   "source": [
    "%%timeit\n",
    "\n",
    "L = []\n",
    "\n",
    "for i in range(100000):\n",
    "    L.append(i)"
   ]
  },
  {
   "cell_type": "code",
   "execution_count": 61,
   "metadata": {},
   "outputs": [
    {
     "name": "stdout",
     "output_type": "stream",
     "text": [
      "2.21 ms ± 11.4 µs per loop (mean ± std. dev. of 7 runs, 100 loops each)\n"
     ]
    }
   ],
   "source": [
    "%%timeit\n",
    "\n",
    "L = [i for i in range(100000)]"
   ]
  },
  {
   "cell_type": "code",
   "execution_count": 64,
   "metadata": {},
   "outputs": [
    {
     "name": "stdout",
     "output_type": "stream",
     "text": [
      "[0, 3, 6, 9, 12, 15, 18, 21, 24, 27, 30, 33, 36, 39, 42, 45, 48, 51, 54, 57, 60, 63, 66, 69, 72, 75, 78, 81, 84, 87, 90, 93, 96, 99]\n"
     ]
    }
   ],
   "source": [
    "L = [number for number in range(100) if number % 3 == 0 ]\n",
    "\n",
    "print(L)"
   ]
  },
  {
   "cell_type": "code",
   "execution_count": 65,
   "metadata": {},
   "outputs": [
    {
     "name": "stdout",
     "output_type": "stream",
     "text": [
      "[0, None, None, 3, None, None, 6, None, None, 9, None, None, 12, None, None, 15, None, None, 18, None, None, 21, None, None, 24, None, None, 27, None, None, 30, None, None, 33, None, None, 36, None, None, 39, None, None, 42, None, None, 45, None, None, 48, None, None, 51, None, None, 54, None, None, 57, None, None, 60, None, None, 63, None, None, 66, None, None, 69, None, None, 72, None, None, 75, None, None, 78, None, None, 81, None, None, 84, None, None, 87, None, None, 90, None, None, 93, None, None, 96, None, None, 99]\n"
     ]
    }
   ],
   "source": [
    "L = [number if number % 3 == 0 else None for number in range(100)  ]\n",
    "\n",
    "print(L)"
   ]
  },
  {
   "cell_type": "code",
   "execution_count": 70,
   "metadata": {},
   "outputs": [
    {
     "name": "stdout",
     "output_type": "stream",
     "text": [
      "Комитет Государственной безопасности\n"
     ]
    },
    {
     "data": {
      "text/plain": [
       "'КГБ'"
      ]
     },
     "execution_count": 70,
     "metadata": {},
     "output_type": "execute_result"
    }
   ],
   "source": [
    "''.join([word[0].upper() for word in input().split()])"
   ]
  },
  {
   "cell_type": "code",
   "execution_count": 75,
   "metadata": {},
   "outputs": [
    {
     "name": "stdout",
     "output_type": "stream",
     "text": [
      "3.38 ms ± 22.1 µs per loop (mean ± std. dev. of 7 runs, 100 loops each)\n"
     ]
    }
   ],
   "source": [
    "%%timeit\n",
    "\n",
    "''.join([letter if letter !='А' else '#' for letter in (\"АБАЖУР, АБАЗИНСКИЙ, АБАЗИНЫ, АББАТ, АББАТИСА, АББАТСТВО\" * 1000)])"
   ]
  },
  {
   "cell_type": "code",
   "execution_count": 76,
   "metadata": {},
   "outputs": [
    {
     "name": "stdout",
     "output_type": "stream",
     "text": [
      "39.9 µs ± 64.2 ns per loop (mean ± std. dev. of 7 runs, 10000 loops each)\n"
     ]
    }
   ],
   "source": [
    "%%timeit\n",
    "\n",
    "(\"АБАЖУР, АБАЗИНСКИЙ, АБАЗИНЫ, АББАТ, АББАТИСА, АББАТСТВО\" * 1000).replace('А', '#')"
   ]
  },
  {
   "cell_type": "code",
   "execution_count": 84,
   "metadata": {},
   "outputs": [
    {
     "name": "stdout",
     "output_type": "stream",
     "text": [
      "4\n",
      "1\n",
      "12\n",
      "123\n",
      "1234\n"
     ]
    }
   ],
   "source": [
    "N = int(input())\n",
    "\n",
    "for i in range(N):\n",
    "    s = \"\"\n",
    "    for j in range(1, i + 2):\n",
    "        s += str(j)\n",
    "    print(s)"
   ]
  },
  {
   "cell_type": "code",
   "execution_count": 87,
   "metadata": {},
   "outputs": [],
   "source": [
    "# импортируем библиотеку для доступа к файлам в интернете\n",
    "import requests\n",
    "# в переменной mbox хранится текст для работы\n",
    "mbox = requests.get('http://www.py4inf.com/code/mbox.txt').text"
   ]
  },
  {
   "cell_type": "code",
   "execution_count": 95,
   "metadata": {},
   "outputs": [
    {
     "name": "stdout",
     "output_type": "stream",
     "text": [
      "21.7 ms ± 234 µs per loop (mean ± std. dev. of 7 runs, 10 loops each)\n"
     ]
    }
   ],
   "source": [
    "emails = []\n",
    "\n",
    "for line in mbox.split('\\n'):\n",
    "    if line.startswith('From: '):\n",
    "        emails.append(line.replace('From: ', ''))"
   ]
  },
  {
   "cell_type": "code",
   "execution_count": 122,
   "metadata": {},
   "outputs": [],
   "source": [
    "emails = [line.replace('From: ', '') for line in mbox.split('\\n') if line.startswith('From: ')]"
   ]
  },
  {
   "cell_type": "code",
   "execution_count": 116,
   "metadata": {},
   "outputs": [],
   "source": [
    "emails = ['E', 'B', 'C', 'E', 'B', 'E']"
   ]
  },
  {
   "cell_type": "code",
   "execution_count": 128,
   "metadata": {},
   "outputs": [
    {
     "name": "stdout",
     "output_type": "stream",
     "text": [
      "89.3 µs ± 426 ns per loop (mean ± std. dev. of 7 runs, 10000 loops each)\n"
     ]
    }
   ],
   "source": [
    "%%timeit\n",
    "\n",
    "emails.sort()\n",
    "\n",
    "last_email = emails[0]\n",
    "max_email = emails[0]\n",
    "max_count = 0\n",
    "current_count = 0\n",
    "\n",
    "for email in emails:\n",
    "    if email != last_email:\n",
    "        if current_count > max_count:\n",
    "            max_count = current_count\n",
    "            max_email = last_email\n",
    "        current_count = 0\n",
    "    else:\n",
    "        current_count += 1\n",
    "    last_email = email\n",
    "\n",
    "if current_count > max_count:\n",
    "    max_count = current_count\n",
    "    max_email = last_email"
   ]
  },
  {
   "cell_type": "code",
   "execution_count": 125,
   "metadata": {},
   "outputs": [
    {
     "name": "stdout",
     "output_type": "stream",
     "text": [
      "194 zqian@umich.edu\n"
     ]
    }
   ],
   "source": [
    "print(max_count, max_email)"
   ]
  },
  {
   "cell_type": "code",
   "execution_count": 129,
   "metadata": {},
   "outputs": [
    {
     "name": "stdout",
     "output_type": "stream",
     "text": [
      "32 ms ± 110 µs per loop (mean ± std. dev. of 7 runs, 10 loops each)\n"
     ]
    }
   ],
   "source": [
    "%%timeit\n",
    "\n",
    "max_count = 0\n",
    "max_email = \"\"\n",
    "\n",
    "for email in emails:\n",
    "    count = emails.count(email)\n",
    "    \n",
    "    if count > max_count:\n",
    "        max_email = email\n",
    "        max_count = count"
   ]
  },
  {
   "cell_type": "code",
   "execution_count": 127,
   "metadata": {},
   "outputs": [
    {
     "name": "stdout",
     "output_type": "stream",
     "text": [
      "195 zqian@umich.edu\n"
     ]
    }
   ],
   "source": [
    "print(max_count, max_email)"
   ]
  },
  {
   "cell_type": "code",
   "execution_count": null,
   "metadata": {},
   "outputs": [],
   "source": []
  }
 ],
 "metadata": {
  "kernelspec": {
   "display_name": "Python 3",
   "language": "python",
   "name": "python3"
  },
  "language_info": {
   "codemirror_mode": {
    "name": "ipython",
    "version": 3
   },
   "file_extension": ".py",
   "mimetype": "text/x-python",
   "name": "python",
   "nbconvert_exporter": "python",
   "pygments_lexer": "ipython3",
   "version": "3.7.3"
  }
 },
 "nbformat": 4,
 "nbformat_minor": 2
}
