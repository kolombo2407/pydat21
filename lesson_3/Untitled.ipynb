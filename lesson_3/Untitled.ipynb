{
 "cells": [
  {
   "cell_type": "code",
   "execution_count": 5,
   "metadata": {},
   "outputs": [
    {
     "name": "stdout",
     "output_type": "stream",
     "text": [
      "None <class 'NoneType'>\n",
      "[23, 23, 45]\n"
     ]
    }
   ],
   "source": [
    "L = [23, 45, 23]\n",
    "A = L.sort()\n",
    "\n",
    "print(A, type(A))\n",
    "print(L)"
   ]
  },
  {
   "cell_type": "code",
   "execution_count": 3,
   "metadata": {},
   "outputs": [
    {
     "name": "stdout",
     "output_type": "stream",
     "text": [
      "[23, 45, 23]\n",
      "[23, 23, 45]\n"
     ]
    }
   ],
   "source": [
    "L1 = [23, 45, 23]\n",
    "\n",
    "L2 = sorted(L1)\n",
    "\n",
    "print(L1)\n",
    "print(L2)"
   ]
  },
  {
   "cell_type": "code",
   "execution_count": 9,
   "metadata": {},
   "outputs": [
    {
     "name": "stdout",
     "output_type": "stream",
     "text": [
      "6\n"
     ]
    }
   ],
   "source": [
    "L3 = [\n",
    "    [1, 2, 3],\n",
    "    [4, 5, 6]\n",
    "]\n",
    "\n",
    "print(L3[1][2])"
   ]
  },
  {
   "cell_type": "code",
   "execution_count": 10,
   "metadata": {},
   "outputs": [
    {
     "name": "stdout",
     "output_type": "stream",
     "text": [
      "{1, 12, 23}\n"
     ]
    }
   ],
   "source": [
    "L = [1, 23, 12, 1, 12, 23]\n",
    "\n",
    "S = set(L)\n",
    "\n",
    "print(S)"
   ]
  },
  {
   "cell_type": "code",
   "execution_count": 17,
   "metadata": {},
   "outputs": [
    {
     "name": "stdout",
     "output_type": "stream",
     "text": [
      "<class 'list'>\n"
     ]
    }
   ],
   "source": [
    "L = [1]\n",
    "print(type(L))"
   ]
  },
  {
   "cell_type": "code",
   "execution_count": 18,
   "metadata": {},
   "outputs": [
    {
     "name": "stdout",
     "output_type": "stream",
     "text": [
      "{1, 23}\n"
     ]
    }
   ],
   "source": [
    "S = set()\n",
    "S.add(1)\n",
    "S.add(23)\n",
    "S.add(1)\n",
    "S.add(23)\n",
    "\n",
    "print(S)"
   ]
  },
  {
   "cell_type": "code",
   "execution_count": 19,
   "metadata": {},
   "outputs": [
    {
     "name": "stdout",
     "output_type": "stream",
     "text": [
      "{1}\n"
     ]
    }
   ],
   "source": [
    "S.remove(23)\n",
    "print(S)"
   ]
  },
  {
   "cell_type": "code",
   "execution_count": 21,
   "metadata": {},
   "outputs": [
    {
     "name": "stdout",
     "output_type": "stream",
     "text": [
      "{1}\n"
     ]
    }
   ],
   "source": [
    "S.discard(23)\n",
    "print(S)"
   ]
  },
  {
   "cell_type": "code",
   "execution_count": 23,
   "metadata": {},
   "outputs": [
    {
     "name": "stdout",
     "output_type": "stream",
     "text": [
      "set()\n"
     ]
    }
   ],
   "source": [
    "S.clear()\n",
    "print(S)"
   ]
  },
  {
   "cell_type": "code",
   "execution_count": 25,
   "metadata": {},
   "outputs": [
    {
     "name": "stdout",
     "output_type": "stream",
     "text": [
      "True\n",
      "False\n"
     ]
    }
   ],
   "source": [
    "S = {1, 2, 3, 4, 5}\n",
    "\n",
    "print(1 in S)\n",
    "print(123 in S)"
   ]
  },
  {
   "cell_type": "code",
   "execution_count": 36,
   "metadata": {},
   "outputs": [
    {
     "name": "stdout",
     "output_type": "stream",
     "text": [
      "{4, 5}\n",
      "{4, 5}\n",
      "{1, 2, 3, 4, 5, 6, 7, 8}\n",
      "{1, 2, 3}\n",
      "{8, 6, 7}\n",
      "{1, 2, 3, 6, 7, 8}\n"
     ]
    }
   ],
   "source": [
    "S1 = {1, 2, 3, 4, 5}\n",
    "S2 = {4, 5, 6, 7, 8}\n",
    "\n",
    "print(S1.intersection(S2))\n",
    "print(S1 & S2)\n",
    "print(S1 | S2)\n",
    "print(S1 - S2)\n",
    "print(S2 - S1)\n",
    "print(S1 ^ S2)"
   ]
  },
  {
   "cell_type": "code",
   "execution_count": 32,
   "metadata": {},
   "outputs": [
    {
     "data": {
      "text/plain": [
       "2"
      ]
     },
     "execution_count": 32,
     "metadata": {},
     "output_type": "execute_result"
    }
   ],
   "source": [
    "10 & 3"
   ]
  },
  {
   "cell_type": "code",
   "execution_count": 44,
   "metadata": {},
   "outputs": [
    {
     "name": "stdout",
     "output_type": "stream",
     "text": [
      "{4, 'Вася', '4', 'Маша'}\n"
     ]
    }
   ],
   "source": [
    "S4 = set()\n",
    "\n",
    "S4.add(\"Вася\")\n",
    "S4.add(\"Маша\")\n",
    "S4.add(\"Вася\")\n",
    "S4.add(4)\n",
    "S4.add(4.0)\n",
    "S4.add(\"4\")\n",
    "\n",
    "print(S4)"
   ]
  },
  {
   "cell_type": "code",
   "execution_count": 47,
   "metadata": {},
   "outputs": [
    {
     "name": "stdout",
     "output_type": "stream",
     "text": [
      "False\n",
      "True\n"
     ]
    }
   ],
   "source": [
    "print(4 == str(4))\n",
    "print(4 == float(4))"
   ]
  },
  {
   "cell_type": "code",
   "execution_count": 57,
   "metadata": {},
   "outputs": [
    {
     "name": "stdout",
     "output_type": "stream",
     "text": [
      "{(4, 5, 6), (1, 2, 3)}\n"
     ]
    }
   ],
   "source": [
    "S5 = set()\n",
    "\n",
    "S5.add((1, 2, 3))\n",
    "S5.add((1, 2, 3))\n",
    "S5.add((4, 5, 6))\n",
    "\n",
    "print(S5)"
   ]
  },
  {
   "cell_type": "code",
   "execution_count": 49,
   "metadata": {},
   "outputs": [
    {
     "data": {
      "text/plain": [
       "False"
      ]
     },
     "execution_count": 49,
     "metadata": {},
     "output_type": "execute_result"
    }
   ],
   "source": [
    "[1, 2, 3] == [4, 5, 6]"
   ]
  },
  {
   "cell_type": "code",
   "execution_count": 50,
   "metadata": {},
   "outputs": [
    {
     "data": {
      "text/plain": [
       "True"
      ]
     },
     "execution_count": 50,
     "metadata": {},
     "output_type": "execute_result"
    }
   ],
   "source": [
    "[1, 2, 3] == [1, 2, 3]"
   ]
  },
  {
   "cell_type": "code",
   "execution_count": 51,
   "metadata": {},
   "outputs": [
    {
     "data": {
      "text/plain": [
       "False"
      ]
     },
     "execution_count": 51,
     "metadata": {},
     "output_type": "execute_result"
    }
   ],
   "source": [
    "[1, 2, 3] == 3"
   ]
  },
  {
   "cell_type": "code",
   "execution_count": 53,
   "metadata": {},
   "outputs": [
    {
     "data": {
      "text/plain": [
       "[[1, 2, 3], [4, 5, 6]]"
      ]
     },
     "execution_count": 53,
     "metadata": {},
     "output_type": "execute_result"
    }
   ],
   "source": [
    "sorted([\n",
    "    [4, 5, 6],\n",
    "    [1, 2, 3]\n",
    "    \n",
    "])"
   ]
  },
  {
   "cell_type": "code",
   "execution_count": 55,
   "metadata": {},
   "outputs": [
    {
     "name": "stdout",
     "output_type": "stream",
     "text": [
      "[[1, 2, 3], [4, 5, 6]]\n",
      "[[4, 5, 6], [4, 5, 6]]\n"
     ]
    }
   ],
   "source": [
    "mySynteticSet = []\n",
    "\n",
    "A = [1, 2, 3]\n",
    "\n",
    "mySynteticSet.append(A)\n",
    "mySynteticSet.append([4, 5, 6])\n",
    "\n",
    "print(mySynteticSet)\n",
    "\n",
    "A.remove(1)\n",
    "A.remove(2)\n",
    "A.remove(3)\n",
    "A.append(4)\n",
    "A.append(5)\n",
    "A.append(6)\n",
    "\n",
    "print(mySynteticSet)\n",
    "\n"
   ]
  },
  {
   "cell_type": "code",
   "execution_count": 63,
   "metadata": {},
   "outputs": [],
   "source": [
    "T = tuple([1, 2, 3, 4, 5])"
   ]
  },
  {
   "cell_type": "code",
   "execution_count": 66,
   "metadata": {},
   "outputs": [
    {
     "name": "stdout",
     "output_type": "stream",
     "text": [
      "{frozenset({1, 2, 3})}\n"
     ]
    }
   ],
   "source": [
    "S = set()\n",
    "\n",
    "S.add(frozenset({1, 2, 3}))\n",
    "\n",
    "print(S)"
   ]
  },
  {
   "cell_type": "code",
   "execution_count": 68,
   "metadata": {},
   "outputs": [
    {
     "name": "stdout",
     "output_type": "stream",
     "text": [
      "Ночь, улица, фонарь\n"
     ]
    }
   ],
   "source": [
    "L = \"Ночь, улица, фонарь\".split(', ')\n",
    "\n",
    "print(', '.join(L))"
   ]
  },
  {
   "cell_type": "code",
   "execution_count": 76,
   "metadata": {},
   "outputs": [
    {
     "name": "stdout",
     "output_type": "stream",
     "text": [
      "Который час?20\n",
      "Магазин уже закрыт, приходите завтра...\n",
      "Спасибо за использование нашей программы!\n"
     ]
    }
   ],
   "source": [
    "time = int(input('Который час?'))\n",
    "\n",
    "if 16 <= time <= 18:\n",
    "    print(\"Магазин открыт, заходите!\")\n",
    "    print(\"Не опаздывайте!\")\n",
    "else:\n",
    "    if time < 16:\n",
    "        print(\"Магазин откроется в 16 часов\")\n",
    "    else:\n",
    "        print(\"Магазин уже закрыт, приходите завтра...\")\n",
    "    \n",
    "print(\"Спасибо за использование нашей программы!\")"
   ]
  },
  {
   "cell_type": "code",
   "execution_count": 80,
   "metadata": {},
   "outputs": [
    {
     "name": "stdout",
     "output_type": "stream",
     "text": [
      "Который час?20\n",
      "Магазин уже закрыт, приходите завтра к 8...\n",
      "Спасибо за использование нашей программы!\n"
     ]
    }
   ],
   "source": [
    "time = int(input('Который час?'))\n",
    "\n",
    "if 16 <= time <= 18 or 8 <= time <= 10:\n",
    "    print(\"Магазин открыт, заходите!\")\n",
    "    print(\"Не опаздывайте!\")\n",
    "elif time < 8:\n",
    "    print(\"Магазин откроется в 8 часов\")\n",
    "elif time < 16:\n",
    "    print(\"Магазин откроется в 16 часов\")\n",
    "else:\n",
    "    print(\"Магазин уже закрыт, приходите завтра к 8...\")\n",
    "    \n",
    "print(\"Спасибо за использование нашей программы!\")"
   ]
  },
  {
   "cell_type": "code",
   "execution_count": 84,
   "metadata": {},
   "outputs": [
    {
     "name": "stdout",
     "output_type": "stream",
     "text": [
      "Загадка 1. \n",
      "\n",
      "Что за чудесный призрак летает под покровом ночи? Утром он исчезает, чтобы воскреснуть в сердце на закате, мир умоляет его сотаться, но он непреклонен.\n",
      "Что это?Надежда\n",
      "Загадка 2.\n",
      "    \n",
      "    Горит как пламя, но не пламя, в последний час похолодеет, ей с трепетом ты внимаешь, а цветом схожа с зарей?\n",
      "Что это?Сердце\n",
      "Вас казнили...\n"
     ]
    }
   ],
   "source": [
    "print(\"Загадка 1. \\n\\nЧто за чудесный призрак летает под покровом ночи? Утром он исчезает, чтобы воскреснуть в сердце на закате, мир умоляет его сотаться, но он непреклонен.\")\n",
    "\n",
    "answer1 = input('Что это?')\n",
    "\n",
    "if answer1 == \"Надежда\":\n",
    "    question2 = \"\"\"Загадка 2.\n",
    "    \n",
    "    Горит как пламя, но не пламя, в последний час похолодеет, ей с трепетом ты внимаешь, а цветом схожа с зарей?\"\"\"\n",
    "    \n",
    "    print(question2)\n",
    "    \n",
    "    answer2 = input('Что это?')\n",
    "    \n",
    "    if answer2 == \"Кровь\":\n",
    "        pass\n",
    "    else:\n",
    "        print(\"Вас казнили...\")\n",
    "else:\n",
    "    print(\"Вас казнили...\")"
   ]
  },
  {
   "cell_type": "code",
   "execution_count": 110,
   "metadata": {},
   "outputs": [
    {
     "name": "stdout",
     "output_type": "stream",
     "text": [
      "Collecting playsound\n",
      "  Downloading https://files.pythonhosted.org/packages/f5/16/10d897b0a83fb4b05b03a63d7a2667ab75f857f67f7062fd447dd3f49bf7/playsound-1.2.2-py2.py3-none-any.whl\n",
      "Installing collected packages: playsound\n",
      "Successfully installed playsound-1.2.2\n"
     ]
    }
   ],
   "source": [
    "!pip install playsound"
   ]
  },
  {
   "cell_type": "code",
   "execution_count": 112,
   "metadata": {},
   "outputs": [
    {
     "name": "stdout",
     "output_type": "stream",
     "text": [
      "Загадка 1. \n",
      "\n",
      "Что за чудесный призрак летает под покровом ночи? Утром он исчезает, чтобы воскреснуть в сердце на закате, мир умоляет его сотаться, но он непреклонен.\n",
      "Что это?Надежда\n",
      "Загадка 2. \n",
      "\n",
      "Горит как пламя, но не пламя, в последний час похолодеет, ей с трепетом ты внимаешь, а цветом схожа с зарей?\n",
      "Что это?Кровь\n",
      "Загадка 3. \n",
      "\n",
      "Что за лед, который зажигает пламя?\n",
      "Что это?вв\n",
      "Вас казнили!\n"
     ]
    }
   ],
   "source": [
    "from playsound import playsound\n",
    "\n",
    "fail = False\n",
    "\n",
    "Q1 = \"Загадка 1. \\n\\nЧто за чудесный призрак летает под покровом ночи? Утром он исчезает, чтобы воскреснуть в сердце на закате, мир умоляет его сотаться, но он непреклонен.\"\n",
    "Q2 = \"\"\"Загадка 2. \\n\\nГорит как пламя, но не пламя, в последний час похолодеет, ей с трепетом ты внимаешь, а цветом схожа с зарей?\"\"\"\n",
    "Q3 = \"\"\"Загадка 3. \\n\\nЧто за лед, который зажигает пламя?\"\"\"\n",
    "\n",
    "playsound('gong.wav')\n",
    "print(Q1)\n",
    "answer1 = input('Что это?')\n",
    "\n",
    "if answer1.lower() != \"надежда\":\n",
    "    fail = True\n",
    "    \n",
    "if not fail:\n",
    "    playsound('gong.wav')\n",
    "    print(Q2)\n",
    "    answer2 = input('Что это?')\n",
    "    \n",
    "    if answer2.lower() != 'кровь':\n",
    "        fail = True\n",
    "        \n",
    "if not fail:\n",
    "    playsound('gong.wav')\n",
    "    print(Q3)\n",
    "    answer3 = input('Что это?')\n",
    "    \n",
    "    if answer3.lower() != 'турандот':\n",
    "        fail = True\n",
    "if fail:\n",
    "    print('Вас казнили!')\n",
    "else:\n",
    "    print('Кажется, теперь вы женаты.')\n",
    "        "
   ]
  },
  {
   "cell_type": "code",
   "execution_count": 87,
   "metadata": {},
   "outputs": [
    {
     "name": "stdout",
     "output_type": "stream",
     "text": [
      "Yey!\n"
     ]
    }
   ],
   "source": [
    "if True:\n",
    "    print('Yey!')"
   ]
  },
  {
   "cell_type": "code",
   "execution_count": 88,
   "metadata": {},
   "outputs": [],
   "source": [
    "if False:\n",
    "    print('Yey!')"
   ]
  },
  {
   "cell_type": "code",
   "execution_count": 89,
   "metadata": {},
   "outputs": [
    {
     "name": "stdout",
     "output_type": "stream",
     "text": [
      "Yey!\n"
     ]
    }
   ],
   "source": [
    "fail = True\n",
    "\n",
    "if fail:\n",
    "    print('Yey!')"
   ]
  },
  {
   "cell_type": "code",
   "execution_count": 90,
   "metadata": {},
   "outputs": [],
   "source": [
    "fail = True\n",
    "\n",
    "if not fail:\n",
    "    print('Yey!')"
   ]
  },
  {
   "cell_type": "code",
   "execution_count": 108,
   "metadata": {},
   "outputs": [],
   "source": [
    "if 2 > 10:\n",
    "    print('Yey!')"
   ]
  },
  {
   "cell_type": "code",
   "execution_count": 92,
   "metadata": {},
   "outputs": [
    {
     "data": {
      "text/plain": [
       "True"
      ]
     },
     "execution_count": 92,
     "metadata": {},
     "output_type": "execute_result"
    }
   ],
   "source": [
    "2 < 10"
   ]
  },
  {
   "cell_type": "code",
   "execution_count": 93,
   "metadata": {},
   "outputs": [
    {
     "name": "stdout",
     "output_type": "stream",
     "text": [
      "Yey\n"
     ]
    }
   ],
   "source": [
    "if \"mama\":\n",
    "    print('Yey')"
   ]
  },
  {
   "cell_type": "code",
   "execution_count": 94,
   "metadata": {},
   "outputs": [
    {
     "name": "stdout",
     "output_type": "stream",
     "text": [
      "Yey\n"
     ]
    }
   ],
   "source": [
    "if \"papa\":\n",
    "    print('Yey')"
   ]
  },
  {
   "cell_type": "code",
   "execution_count": 95,
   "metadata": {},
   "outputs": [],
   "source": [
    "if \"\":\n",
    "    print('Yey')"
   ]
  },
  {
   "cell_type": "code",
   "execution_count": 99,
   "metadata": {},
   "outputs": [
    {
     "name": "stdout",
     "output_type": "stream",
     "text": [
      "sdfsdf\n",
      "sdfsdf True\n",
      "Рад познакомиться, sdfsdf\n"
     ]
    }
   ],
   "source": [
    "name = input()\n",
    "\n",
    "print(name, bool(name))\n",
    "\n",
    "if not name:\n",
    "    print('Вы не ввели имя')\n",
    "else:\n",
    "    print('Рад познакомиться,', name)"
   ]
  },
  {
   "cell_type": "code",
   "execution_count": 100,
   "metadata": {},
   "outputs": [
    {
     "name": "stdout",
     "output_type": "stream",
     "text": [
      "Yey\n"
     ]
    }
   ],
   "source": [
    "if 1:\n",
    "    print('Yey')"
   ]
  },
  {
   "cell_type": "code",
   "execution_count": 101,
   "metadata": {},
   "outputs": [
    {
     "name": "stdout",
     "output_type": "stream",
     "text": [
      "Yey\n"
     ]
    }
   ],
   "source": [
    "if -10:\n",
    "    print('Yey')"
   ]
  },
  {
   "cell_type": "code",
   "execution_count": 102,
   "metadata": {},
   "outputs": [],
   "source": [
    "if 0:\n",
    "    print('Yey')"
   ]
  },
  {
   "cell_type": "code",
   "execution_count": 103,
   "metadata": {},
   "outputs": [
    {
     "data": {
      "text/plain": [
       "False"
      ]
     },
     "execution_count": 103,
     "metadata": {},
     "output_type": "execute_result"
    }
   ],
   "source": [
    "bool(0)"
   ]
  },
  {
   "cell_type": "code",
   "execution_count": 104,
   "metadata": {},
   "outputs": [
    {
     "data": {
      "text/plain": [
       "True"
      ]
     },
     "execution_count": 104,
     "metadata": {},
     "output_type": "execute_result"
    }
   ],
   "source": [
    "bool(123)"
   ]
  },
  {
   "cell_type": "code",
   "execution_count": 105,
   "metadata": {},
   "outputs": [
    {
     "name": "stdout",
     "output_type": "stream",
     "text": [
      "Yey\n"
     ]
    }
   ],
   "source": [
    "if [1, 2, 3]:\n",
    "    print('Yey')"
   ]
  },
  {
   "cell_type": "code",
   "execution_count": 106,
   "metadata": {},
   "outputs": [],
   "source": [
    "if []:\n",
    "    print('Yey')"
   ]
  },
  {
   "cell_type": "code",
   "execution_count": 107,
   "metadata": {},
   "outputs": [
    {
     "name": "stdout",
     "output_type": "stream",
     "text": [
      "\n",
      "Вы не ввели ни одного факультатива\n"
     ]
    }
   ],
   "source": [
    "F = input().split()\n",
    "\n",
    "if not F:\n",
    "    print(\"Вы не ввели ни одного факультатива\")"
   ]
  },
  {
   "cell_type": "code",
   "execution_count": 109,
   "metadata": {},
   "outputs": [
    {
     "name": "stdout",
     "output_type": "stream",
     "text": [
      "2 + 2 = ?\n",
      "4\n",
      "2 + 4 = ?\n",
      "1\n",
      "2 + 6 = ?\n",
      "8\n",
      "Правильных ответов - 2\n"
     ]
    }
   ],
   "source": [
    "right = 0 \n",
    "\n",
    "print(\"2 + 2 = ?\")\n",
    "answer = input()\n",
    "\n",
    "if answer == \"4\":\n",
    "    right += 1\n",
    "    \n",
    "print(\"2 + 4 = ?\")\n",
    "answer = input()\n",
    "\n",
    "if answer == \"6\":\n",
    "    right += 1\n",
    "\n",
    "print(\"2 + 6 = ?\")\n",
    "answer = input()\n",
    "\n",
    "if answer == \"8\":\n",
    "    right += 1\n",
    "\n",
    "print(\"Правильных ответов -\", right)"
   ]
  },
  {
   "cell_type": "code",
   "execution_count": 113,
   "metadata": {},
   "outputs": [
    {
     "name": "stdout",
     "output_type": "stream",
     "text": [
      "Купил мужик шляпу...\n",
      "А она ему как раз!\n"
     ]
    }
   ],
   "source": [
    "import time\n",
    "\n",
    "print(\"Купил мужик шляпу...\")\n",
    "\n",
    "time.sleep(3)\n",
    "\n",
    "print(\"А она ему как раз!\")"
   ]
  },
  {
   "cell_type": "code",
   "execution_count": 119,
   "metadata": {},
   "outputs": [
    {
     "name": "stdout",
     "output_type": "stream",
     "text": [
      "219 µs ± 177 ns per loop (mean ± std. dev. of 7 runs, 1000 loops each)\n"
     ]
    }
   ],
   "source": [
    "%%timeit\n",
    "[i for i in range(10000)]"
   ]
  },
  {
   "cell_type": "code",
   "execution_count": 118,
   "metadata": {},
   "outputs": [
    {
     "name": "stdout",
     "output_type": "stream",
     "text": [
      "615 ns ± 4.72 ns per loop (mean ± std. dev. of 7 runs, 1000000 loops each)\n"
     ]
    }
   ],
   "source": [
    "%%timeit\n",
    "\n",
    "L = []\n",
    "\n",
    "for i in range(10000):\n",
    "    L.append(i)\n",
    "\n",
    "L"
   ]
  },
  {
   "cell_type": "code",
   "execution_count": null,
   "metadata": {},
   "outputs": [],
   "source": []
  }
 ],
 "metadata": {
  "kernelspec": {
   "display_name": "Python 3",
   "language": "python",
   "name": "python3"
  },
  "language_info": {
   "codemirror_mode": {
    "name": "ipython",
    "version": 3
   },
   "file_extension": ".py",
   "mimetype": "text/x-python",
   "name": "python",
   "nbconvert_exporter": "python",
   "pygments_lexer": "ipython3",
   "version": "3.7.3"
  }
 },
 "nbformat": 4,
 "nbformat_minor": 2
}
